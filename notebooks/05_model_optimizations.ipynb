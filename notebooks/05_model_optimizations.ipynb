{
  "cells": [
    {
      "cell_type": "markdown",
      "metadata": {
        "id": "Bog-9ygSgek6"
      },
      "source": [
        "# Optimizing the model with series of experiments"
      ]
    },
    {
      "cell_type": "code",
      "execution_count": null,
      "metadata": {
        "id": "_9wLOENogek9"
      },
      "outputs": [],
      "source": [
        "import pathlib\n",
        "\n",
        "import numpy as np\n",
        "import pandas as pd\n",
        "\n",
        "from sklearn.model_selection import train_test_split\n",
        "from sklearn.model_selection import GridSearchCV\n",
        "from sklearn.metrics import mean_squared_error\n",
        "from sklearn.model_selection import cross_val_score"
      ]
    },
    {
      "cell_type": "markdown",
      "metadata": {
        "id": "fEeiI5Ekgek-"
      },
      "source": [
        "### Let´s first reload the data from the previous notebook. Then, perform train_test_split once again."
      ]
    },
    {
      "cell_type": "code",
      "execution_count": null,
      "metadata": {
        "id": "YHwaGfg_gek_"
      },
      "outputs": [],
      "source": [
        "DATA_DIR = pathlib.Path.cwd().parent / 'data'\n",
        "print(DATA_DIR)"
      ]
    },
    {
      "cell_type": "code",
      "execution_count": null,
      "metadata": {
        "id": "AGH-oL7rgek_"
      },
      "outputs": [],
      "source": [
        "model_data_scaled_path = DATA_DIR / 'processed' / 'ames_model_data_scaled.pkl'"
      ]
    },
    {
      "cell_type": "code",
      "execution_count": null,
      "metadata": {
        "id": "Z7Y5Iacjgek_"
      },
      "outputs": [],
      "source": [
        "data = pd.read_pickle(model_data_scaled_path)"
      ]
    },
    {
      "cell_type": "code",
      "execution_count": null,
      "metadata": {
        "id": "jj5g9uDugek_"
      },
      "outputs": [],
      "source": [
        "X = data.drop(columns=['SalePrice']).copy().values\n",
        "y = data['SalePrice'].copy().values"
      ]
    },
    {
      "cell_type": "code",
      "execution_count": null,
      "metadata": {
        "id": "siGQ3G7ggelA"
      },
      "outputs": [],
      "source": [
        "X.shape, y.shape"
      ]
    },
    {
      "cell_type": "code",
      "execution_count": null,
      "metadata": {
        "id": "3nm7_WOdgelA"
      },
      "outputs": [],
      "source": [
        "RANDOM_SEED = 42  # Any number here, really.\n",
        "\n",
        "Xtrain, Xtest, ytrain, ytest = train_test_split(\n",
        "    X,\n",
        "    y,\n",
        "    test_size=0.25,\n",
        "    random_state=RANDOM_SEED,\n",
        ")"
      ]
    },
    {
      "cell_type": "markdown",
      "metadata": {
        "id": "g9fYbEhHgelA"
      },
      "source": [
        "### Experiment 1: LinearRegression with encoded categorical values AND scaled continuous variables\n",
        "\n",
        "Our first experiment is to rerun the linear regression model with the same features as before, but this time on the new data with scaled continuous variables."
      ]
    },
    {
      "cell_type": "code",
      "execution_count": null,
      "metadata": {
        "id": "5msGTsiwgelB"
      },
      "outputs": [],
      "source": [
        "from sklearn.linear_model import LinearRegression"
      ]
    },
    {
      "cell_type": "code",
      "execution_count": null,
      "metadata": {
        "id": "wesTDvkUgelB"
      },
      "outputs": [],
      "source": [
        "linear_scaled_model = LinearRegression()\n",
        "\n",
        "linear_scaled_model.fit(Xtrain, ytrain)"
      ]
    },
    {
      "cell_type": "code",
      "execution_count": null,
      "metadata": {
        "id": "ZAh5ZQ6CgelB"
      },
      "outputs": [],
      "source": [
        "scores_linear_scaled = cross_val_score(linear_scaled_model,\n",
        "                                       Xtrain,\n",
        "                                       ytrain,\n",
        "                                       cv=10,\n",
        "                                       scoring='neg_mean_squared_error',\n",
        "                                       n_jobs=-1)\n",
        "\n",
        "scores_linear_scaled = np.sqrt(-scores_linear_scaled)\n",
        "print(f'MEAN: {scores_linear_scaled.mean():.2f} +/- {scores_linear_scaled.std():.2f}')\n",
        "error_percent_linear = 100 * (10**scores_linear_scaled.mean() - 1)\n",
        "std_percent_linear = 100 * (10**scores_linear_scaled.std() - 1)\n",
        "print(f'Average error is {error_percent_linear:.2f}%')\n",
        "print(f'Standard deviation of error is {std_percent_linear:.2f}%')\n",
        "\n",
        "path = DATA_DIR / 'processed' / 'models_log.csv'\n",
        "\n",
        "with open(path, 'a') as f:\n",
        "    f.write(f'Linear Regression Scaled,{error_percent_linear:.2f},{std_percent_linear:.2f}\\n')"
      ]
    },
    {
      "cell_type": "markdown",
      "metadata": {
        "id": "sWJxJtLFgelB"
      },
      "source": [
        "The experiment showed no signifficant difference in the model performance. This means that the LinearRegression model is not sensitive to the scale of the continuous variables. We will, however, still keep the scaled data for the next experiments."
      ]
    },
    {
      "cell_type": "markdown",
      "metadata": {
        "id": "MO88AXX_gelB"
      },
      "source": [
        "### Experiment 2: Lasso Regression"
      ]
    },
    {
      "cell_type": "code",
      "execution_count": null,
      "metadata": {
        "id": "yxfujoYXgelC"
      },
      "outputs": [],
      "source": [
        "from sklearn.linear_model import Lasso"
      ]
    },
    {
      "cell_type": "code",
      "execution_count": null,
      "metadata": {
        "id": "I-FnepU-gelC"
      },
      "outputs": [],
      "source": [
        "lasso = Lasso()\n",
        "\n",
        "params = {\n",
        "    'alpha': np.logspace(-4, 0, 100),\n",
        "    'max_iter': [15000, 20000, 30000],\n",
        "    'tol': [0.0001, 0.001],\n",
        "    'selection': ['cyclic', 'random'],\n",
        "}\n",
        "\n",
        "grid = GridSearchCV(lasso, params, cv=5, verbose=1, n_jobs=-1)"
      ]
    },
    {
      "cell_type": "code",
      "execution_count": null,
      "metadata": {
        "id": "Q5OrzY5PgelC"
      },
      "outputs": [],
      "source": [
        "grid.fit(Xtrain, ytrain)"
      ]
    },
    {
      "cell_type": "code",
      "execution_count": null,
      "metadata": {
        "id": "BJIt31ZrgelC"
      },
      "outputs": [],
      "source": [
        "best_params = grid.best_params_\n",
        "print(best_params)"
      ]
    },
    {
      "cell_type": "code",
      "execution_count": null,
      "metadata": {
        "id": "wYjhHl-GgelC"
      },
      "outputs": [],
      "source": [
        "lasso_best = Lasso(**best_params)\n",
        "lasso_best.fit(Xtrain, ytrain)"
      ]
    },
    {
      "cell_type": "code",
      "execution_count": null,
      "metadata": {
        "id": "Z8wba6J7gelC"
      },
      "outputs": [],
      "source": [
        "scores_lasso = cross_val_score(lasso_best, Xtrain, ytrain, cv=5, scoring='neg_mean_squared_error', n_jobs=-1)\n",
        "scores_lasso = np.sqrt(-scores_lasso)\n",
        "print(f'MEAN: {scores_lasso.mean():.2f} +/- {scores_lasso.std():.2f}')\n",
        "error_percent_lasso = 100 * (10**scores_lasso.mean() - 1)\n",
        "std_percent_lasso = 100 * (10**scores_lasso.std() - 1)\n",
        "print(f'Average error is {error_percent_lasso:.2f}%')\n",
        "print(f'Standard deviation of error is {std_percent_lasso:.2f}%')\n",
        "\n",
        "path = DATA_DIR / 'processed' / 'models_log.csv'\n",
        "\n",
        "with open(path, 'a') as f:\n",
        "    f.write(f'Lasso,{error_percent_lasso:.2f},{std_percent_lasso:.2f}\\n')"
      ]
    },
    {
      "cell_type": "markdown",
      "metadata": {
        "id": "QLGdIqIEgelD"
      },
      "source": [
        "### Experiment 3:  Random Forest Regression"
      ]
    },
    {
      "cell_type": "code",
      "execution_count": null,
      "metadata": {
        "id": "KqhuSZ7JgelD"
      },
      "outputs": [],
      "source": [
        "from sklearn.ensemble import RandomForestRegressor"
      ]
    },
    {
      "cell_type": "code",
      "execution_count": null,
      "metadata": {
        "id": "FBn1PDHPgelD"
      },
      "outputs": [],
      "source": [
        "rf = RandomForestRegressor()\n",
        "\n",
        "params = {\n",
        "    'n_estimators': [100, 600, 1200, 1800],\n",
        "    'min_samples_split': [3],\n",
        "    'max_features': ['auto', 'sqrt'],\n",
        "    'verbose': [0, 1, 2, 3],\n",
        "    'max_depth': [None],\n",
        "    'bootstrap': [False],\n",
        "    'min_weight_fraction_leaf': [0.0],\n",
        "    'min_samples_leaf': [1],\n",
        "}\n",
        "\n",
        "grid = GridSearchCV(rf, params, cv=5, verbose=1, n_jobs=-1)"
      ]
    },
    {
      "cell_type": "code",
      "execution_count": null,
      "metadata": {
        "id": "ncBy3F-igelD"
      },
      "outputs": [],
      "source": [
        "grid.fit(Xtrain, ytrain)"
      ]
    },
    {
      "cell_type": "code",
      "execution_count": null,
      "metadata": {
        "id": "vqEhl9WZgelD",
        "outputId": "625ba6f2-518f-4c9c-e6c1-45e8f75a6d78"
      },
      "outputs": [],
      "source": [
        "best_params = grid.best_params_\n",
        "print(best_params)"
      ]
    },
    {
      "cell_type": "code",
      "execution_count": null,
      "metadata": {
        "id": "s88tM9SRgelD"
      },
      "outputs": [],
      "source": [
        "rf_best = RandomForestRegressor(**best_params)\n",
        "rf_best.fit(Xtrain, ytrain)"
      ]
    },
    {
      "cell_type": "code",
      "execution_count": null,
      "metadata": {
        "id": "uwrovDvzgelE"
      },
      "outputs": [],
      "source": [
        "scores_rf = cross_val_score(rf_best, Xtrain, ytrain, cv=10, scoring='neg_mean_squared_error', n_jobs=-1)\n",
        "scores_rf = np.sqrt(-scores_rf)\n",
        "error_percent_rf = 100 * (10**scores_rf.mean() - 1)\n",
        "std_percent_rf = 100 * (10**scores_rf.std() - 1)\n",
        "print(f'Average error is {error_percent_rf:.2f}%')\n",
        "print(f'Standard deviation of error is {std_percent_rf:.2f}%')\n",
        "\n",
        "path = DATA_DIR / 'processed' / 'models_log.csv'\n",
        "\n",
        "with open(path, 'a') as f:\n",
        "    f.write(f'Random Forest,{error_percent_rf:.2f},{std_percent_rf:.2f}\\n')"
      ]
    },
    {
      "cell_type": "markdown",
      "metadata": {
        "id": "VHU1A47NgelE"
      },
      "source": [
        "### Experiment 4:  Gradient Boosting Regression"
      ]
    },
    {
      "cell_type": "code",
      "execution_count": null,
      "metadata": {
        "id": "hGfMjeHbgelE"
      },
      "outputs": [],
      "source": [
        "from sklearn.ensemble import GradientBoostingRegressor"
      ]
    },
    {
      "cell_type": "code",
      "execution_count": null,
      "metadata": {
        "id": "7T6lq5tBgelE"
      },
      "outputs": [],
      "source": [
        "gbr = GradientBoostingRegressor()\n",
        "\n",
        "params = {\n",
        " 'alpha': 0.9, \n",
        " 'criterion': 'friedman_mse',\n",
        " 'learning_rate': [0.1, 0.5, 0.01], \n",
        " 'max_depth': [3, 4, 5], \n",
        " 'max_features': 'sqrt', \n",
        " 'min_samples_leaf': [2,3], \n",
        " 'n_estimators': [1600,200], \n",
        " 'subsample': [0.9, 0.8, 0.7, 0.6], \n",
        " 'verbose': [0,1,2], \n",
        " 'warm_start': [True, False]\n",
        "}\n",
        "\n",
        "grid = GridSearchCV(gbr, params, cv=5, verbose=1, n_jobs=-1)"
      ]
    },
    {
      "cell_type": "code",
      "execution_count": null,
      "metadata": {
        "id": "hQI9A7WXgelE",
        "outputId": "20c2ffb3-69d7-44a2-8145-5c0ca0415bed"
      },
      "outputs": [],
      "source": [
        "grid.fit(Xtrain, ytrain)"
      ]
    },
    {
      "cell_type": "code",
      "execution_count": null,
      "metadata": {
        "id": "sTXDdTvPgelE",
        "outputId": "a1d2b7ba-e649-4f85-ac58-96fda1456de5"
      },
      "outputs": [],
      "source": [
        "best_params = grid.best_params_\n",
        "with open('best_params.txt', 'w') as f:\n",
        "    f.write(str(best_params))\n",
        "print(best_params)"
      ]
    },
    {
      "cell_type": "code",
      "execution_count": null,
      "metadata": {
        "id": "EMFs95wQgelE",
        "outputId": "5bf2a913-83c3-4c18-f6f6-c5280c713979"
      },
      "outputs": [],
      "source": [
        "gbr_best = GradientBoostingRegressor(**best_params)\n",
        "gbr_best.fit(Xtrain, ytrain)"
      ]
    },
    {
      "cell_type": "code",
      "execution_count": null,
      "metadata": {
        "id": "JH_u90FUgelE",
        "outputId": "f50ed70e-93f3-450e-c221-b848fbaf92a9"
      },
      "outputs": [],
      "source": [
        "scores_gbr = cross_val_score(gbr_best, Xtrain, ytrain, cv=10, scoring='neg_mean_squared_error', n_jobs=-1)\n",
        "scores_gbr = np.sqrt(-scores_gbr)\n",
        "print(f'MEAN: {scores_gbr.mean():.2f} +/- {scores_gbr.std():.2f}')\n",
        "error_percent_gbr = 100 * (10**scores_gbr.mean() - 1)\n",
        "std_percent_gbr = 100 * (10**scores_gbr.std() - 1)\n",
        "print(f'Average error is {error_percent_gbr:.2f}%')\n",
        "print(f'Standard deviation of error is {std_percent_gbr:.2f}%')\n",
        "\n",
        "path = DATA_DIR / 'processed' / 'models_log.csv'\n",
        "\n",
        "with open(path, 'a') as f:\n",
        "    f.write(f'Gradient Boosting,{error_percent_gbr:.2f},{std_percent_gbr:.2f}\\n')"
      ]
    },
    {
      "cell_type": "markdown",
      "metadata": {
        "id": "U_T2JBDzgelF"
      },
      "source": [
        "### Experiment 5:  KNN Regression"
      ]
    },
    {
      "cell_type": "code",
      "execution_count": null,
      "metadata": {
        "id": "ivWgnFfggelF"
      },
      "outputs": [],
      "source": [
        "from sklearn.neighbors import KNeighborsRegressor"
      ]
    },
    {
      "cell_type": "code",
      "execution_count": null,
      "metadata": {
        "id": "8wmDaSRYgelF"
      },
      "outputs": [],
      "source": [
        "knn = KNeighborsRegressor()\n",
        "\n",
        "params = {\n",
        "    'n_neighbors': [5, 6, 7, 8],\n",
        "    'weights': ['uniform', 'distance'],\n",
        "    'algorithm': ['auto', 'ball_tree', 'kd_tree', 'brute'],\n",
        "    'p': [1, 2, 3],\n",
        "    'leaf_size': [30, 40, 50]\n",
        "}\n",
        "\n",
        "grid = GridSearchCV(knn, params, cv=5, verbose=1, n_jobs=-1)"
      ]
    },
    {
      "cell_type": "code",
      "execution_count": null,
      "metadata": {},
      "outputs": [],
      "source": [
        "grid.fit(Xtrain, ytrain)"
      ]
    },
    {
      "cell_type": "code",
      "execution_count": null,
      "metadata": {
        "id": "HPB4rVMagelF"
      },
      "outputs": [],
      "source": [
        "best_params = grid.best_params_\n",
        "print(best_params)"
      ]
    },
    {
      "cell_type": "code",
      "execution_count": null,
      "metadata": {
        "id": "nDd4pnOegelJ"
      },
      "outputs": [],
      "source": [
        "knn_best = KNeighborsRegressor(**best_params)\n",
        "knn_best.fit(Xtrain, ytrain)"
      ]
    },
    {
      "cell_type": "code",
      "execution_count": null,
      "metadata": {},
      "outputs": [],
      "source": [
        "scores_knn = cross_val_score(knn_best, Xtrain, ytrain, cv=10, scoring='neg_mean_squared_error', n_jobs=-1)\n",
        "scores_knn = np.sqrt(-scores_knn)\n",
        "error_percent_knn = 100 * (10**scores_knn.mean() - 1)\n",
        "std_percent_knn = 100 * (10**scores_knn.std() - 1)\n",
        "print(f'Average error is {error_percent_knn:.2f}%')\n",
        "print(f'Standard deviation of error is {std_percent_knn:.2f}%')\n",
        "\n",
        "path = DATA_DIR / 'processed' / 'models_log.csv'\n",
        "\n",
        "with open(path, 'a') as f:\n",
        "    f.write(f'knn,{error_percent_knn:.2f},{std_percent_knn:.2f}\\n')"
      ]
    },
    {
      "cell_type": "markdown",
      "metadata": {},
      "source": [
        "### Experiment 6: ElasticNetCV"
      ]
    },
    {
      "cell_type": "code",
      "execution_count": null,
      "metadata": {},
      "outputs": [],
      "source": [
        "from sklearn.linear_model import ElasticNetCV"
      ]
    },
    {
      "cell_type": "code",
      "execution_count": null,
      "metadata": {},
      "outputs": [],
      "source": [
        "elnet = ElasticNetCV()\n",
        "\n",
        "params = {\n",
        "    'l1_ratio': [0.6, 0.3, 0.2, 0.1],\n",
        "    'eps': [1e-2, 1e-3, 1e-4, 1e-5, 1e-6, 1e-7, 1e-8],\n",
        "    'n_alphas': [100, 150, 200],\n",
        "    'copy_X': [True, False],\n",
        "    'verbose': [0,1,2]\n",
        "}\n",
        "\n",
        "grid = GridSearchCV(elnet, params, cv=5, n_jobs=-1)"
      ]
    },
    {
      "cell_type": "code",
      "execution_count": null,
      "metadata": {},
      "outputs": [],
      "source": [
        "grid.fit(Xtrain, ytrain)"
      ]
    },
    {
      "cell_type": "code",
      "execution_count": null,
      "metadata": {},
      "outputs": [],
      "source": [
        "best_params = grid.best_params_\n",
        "print(best_params)"
      ]
    },
    {
      "cell_type": "code",
      "execution_count": null,
      "metadata": {},
      "outputs": [],
      "source": [
        "elnet_best = ElasticNetCV(**best_params)\n",
        "elnet_best.fit(Xtrain, ytrain)"
      ]
    },
    {
      "cell_type": "code",
      "execution_count": null,
      "metadata": {},
      "outputs": [],
      "source": [
        "scores_elnet = cross_val_score(elnet_best, Xtrain, ytrain, cv=10, scoring='neg_mean_squared_error', n_jobs=-1)\n",
        "scores_elnet = np.sqrt(-scores_elnet)\n",
        "error_percent_elnet = 100 * (10**scores_elnet.mean() - 1)\n",
        "std_percent_elnet = 100 * (10**scores_elnet.std() - 1)\n",
        "print(f'Average error is {error_percent_elnet:.2f}%')\n",
        "print(f'Standard deviation of error is {std_percent_elnet:.2f}%')\n",
        "\n",
        "path = DATA_DIR / 'processed' / 'models_log.csv'\n",
        "\n",
        "with open(path, 'a') as f:\n",
        "    f.write(f'Elastic Net,{error_percent_elnet:.2f},{std_percent_elnet:.2f}\\n')"
      ]
    },
    {
      "cell_type": "markdown",
      "metadata": {
        "id": "bzrp08rmgelK"
      },
      "source": [
        "### Experiment 7: Regression Stack"
      ]
    },
    {
      "cell_type": "markdown",
      "metadata": {
        "id": "Wwv4f0XOgelK"
      },
      "source": [
        "### Retraining of best model on the whole dataset"
      ]
    },
    {
      "cell_type": "code",
      "execution_count": null,
      "metadata": {
        "id": "rkNrXjEkgelK"
      },
      "outputs": [],
      "source": [
        "best_model = linear_scaled_model"
      ]
    },
    {
      "cell_type": "code",
      "execution_count": null,
      "metadata": {
        "id": "o-GozjutgelK"
      },
      "outputs": [],
      "source": [
        "best_model.fit(X, y)"
      ]
    }
  ],
  "metadata": {
    "colab": {
      "provenance": []
    },
    "kernelspec": {
      "display_name": "Python 3",
      "language": "python",
      "name": "python3"
    },
    "language_info": {
      "codemirror_mode": {
        "name": "ipython",
        "version": 3
      },
      "file_extension": ".py",
      "mimetype": "text/x-python",
      "name": "python",
      "nbconvert_exporter": "python",
      "pygments_lexer": "ipython3",
      "version": "3.9.18"
    },
    "orig_nbformat": 4
  },
  "nbformat": 4,
  "nbformat_minor": 0
}

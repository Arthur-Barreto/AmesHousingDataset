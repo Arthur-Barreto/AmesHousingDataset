{
  "cells": [
    {
      "cell_type": "markdown",
      "metadata": {
        "id": "Bog-9ygSgek6"
      },
      "source": [
        "# Optimizing the model with series of experiments"
      ]
    },
    {
      "cell_type": "code",
      "execution_count": 1,
      "metadata": {
        "id": "_9wLOENogek9"
      },
      "outputs": [],
      "source": [
        "import pathlib\n",
        "\n",
        "import numpy as np\n",
        "import pandas as pd\n",
        "\n",
        "from sklearn.model_selection import train_test_split\n",
        "from sklearn.model_selection import GridSearchCV\n",
        "from sklearn.metrics import mean_squared_error\n",
        "from sklearn.model_selection import cross_val_score"
      ]
    },
    {
      "cell_type": "markdown",
      "metadata": {
        "id": "fEeiI5Ekgek-"
      },
      "source": [
        "### Let´s first reload the data from the previous notebook. Then, perform train_test_split once again."
      ]
    },
    {
      "cell_type": "code",
      "execution_count": 2,
      "metadata": {
        "id": "YHwaGfg_gek_"
      },
      "outputs": [
        {
          "name": "stdout",
          "output_type": "stream",
          "text": [
            "/home/arthur/Documentos/Insper/6_semestre/projetos_ml/AmesHousingDataset/data\n"
          ]
        }
      ],
      "source": [
        "DATA_DIR = pathlib.Path.cwd().parent / 'data'\n",
        "print(DATA_DIR)"
      ]
    },
    {
      "cell_type": "code",
      "execution_count": 3,
      "metadata": {
        "id": "AGH-oL7rgek_"
      },
      "outputs": [],
      "source": [
        "model_data_scaled_path = DATA_DIR / 'processed' / 'ames_model_data_scaled.pkl'"
      ]
    },
    {
      "cell_type": "code",
      "execution_count": 4,
      "metadata": {
        "id": "Z7Y5Iacjgek_"
      },
      "outputs": [],
      "source": [
        "data = pd.read_pickle(model_data_scaled_path)"
      ]
    },
    {
      "cell_type": "code",
      "execution_count": 5,
      "metadata": {
        "id": "jj5g9uDugek_"
      },
      "outputs": [],
      "source": [
        "X = data.drop(columns=['SalePrice']).copy().values\n",
        "y = data['SalePrice'].copy().values"
      ]
    },
    {
      "cell_type": "code",
      "execution_count": 6,
      "metadata": {
        "id": "siGQ3G7ggelA"
      },
      "outputs": [
        {
          "data": {
            "text/plain": [
              "((2877, 164), (2877,))"
            ]
          },
          "execution_count": 6,
          "metadata": {},
          "output_type": "execute_result"
        }
      ],
      "source": [
        "X.shape, y.shape"
      ]
    },
    {
      "cell_type": "code",
      "execution_count": 7,
      "metadata": {
        "id": "3nm7_WOdgelA"
      },
      "outputs": [],
      "source": [
        "RANDOM_SEED = 42  # Any number here, really.\n",
        "\n",
        "Xtrain, Xtest, ytrain, ytest = train_test_split(\n",
        "    X,\n",
        "    y,\n",
        "    test_size=0.25,\n",
        "    random_state=RANDOM_SEED,\n",
        ")"
      ]
    },
    {
      "cell_type": "markdown",
      "metadata": {
        "id": "g9fYbEhHgelA"
      },
      "source": [
        "### Experiment 1: LinearRegression with encoded categorical values AND scaled continuous variables\n",
        "\n",
        "Our first experiment is to rerun the linear regression model with the same features as before, but this time on the new data with scaled continuous variables."
      ]
    },
    {
      "cell_type": "code",
      "execution_count": null,
      "metadata": {
        "id": "5msGTsiwgelB"
      },
      "outputs": [],
      "source": [
        "from sklearn.linear_model import LinearRegression"
      ]
    },
    {
      "cell_type": "code",
      "execution_count": null,
      "metadata": {
        "id": "wesTDvkUgelB"
      },
      "outputs": [],
      "source": [
        "linear_scaled_model = LinearRegression()\n",
        "\n",
        "linear_scaled_model.fit(Xtrain, ytrain)"
      ]
    },
    {
      "cell_type": "code",
      "execution_count": null,
      "metadata": {
        "id": "ZAh5ZQ6CgelB"
      },
      "outputs": [],
      "source": [
        "scores_linear_scaled = cross_val_score(linear_scaled_model,\n",
        "                                       Xtrain,\n",
        "                                       ytrain,\n",
        "                                       cv=10,\n",
        "                                       scoring='neg_mean_squared_error',\n",
        "                                       n_jobs=-1)\n",
        "\n",
        "scores_linear_scaled = np.sqrt(-scores_linear_scaled)\n",
        "print(f'MEAN: {scores_linear_scaled.mean():.2f} +/- {scores_linear_scaled.std():.2f}')\n",
        "error_percent_linear = 100 * (10**scores_linear_scaled.mean() - 1)\n",
        "std_percent_linear = 100 * (10**scores_linear_scaled.std() - 1)\n",
        "print(f'Average error is {error_percent_linear:.2f}%')\n",
        "print(f'Standard deviation of error is {std_percent_linear:.2f}%')\n",
        "\n",
        "path = DATA_DIR / 'processed' / 'models_log.csv'\n",
        "\n",
        "with open(path, 'a') as f:\n",
        "    f.write(f'Linear Regression Scaled,{error_percent_linear:.2f},{std_percent_linear:.2f}\\n')"
      ]
    },
    {
      "cell_type": "markdown",
      "metadata": {
        "id": "sWJxJtLFgelB"
      },
      "source": [
        "The experiment showed no signifficant difference in the model performance. This means that the LinearRegression model is not sensitive to the scale of the continuous variables. We will, however, still keep the scaled data for the next experiments."
      ]
    },
    {
      "cell_type": "markdown",
      "metadata": {
        "id": "MO88AXX_gelB"
      },
      "source": [
        "### Experiment 2: Lasso Regression"
      ]
    },
    {
      "cell_type": "code",
      "execution_count": null,
      "metadata": {
        "id": "yxfujoYXgelC"
      },
      "outputs": [],
      "source": [
        "from sklearn.linear_model import Lasso"
      ]
    },
    {
      "cell_type": "code",
      "execution_count": null,
      "metadata": {
        "id": "I-FnepU-gelC"
      },
      "outputs": [],
      "source": [
        "lasso = Lasso()\n",
        "\n",
        "params = {\n",
        "    'alpha': np.logspace(-4, 0, 100),\n",
        "    'max_iter': [15000, 20000, 30000],\n",
        "    'tol': [0.0001, 0.001],\n",
        "    'selection': ['cyclic', 'random'],\n",
        "}\n",
        "\n",
        "grid = GridSearchCV(lasso, params, cv=5, verbose=1, n_jobs=-1)"
      ]
    },
    {
      "cell_type": "code",
      "execution_count": null,
      "metadata": {
        "id": "Q5OrzY5PgelC"
      },
      "outputs": [],
      "source": [
        "grid.fit(Xtrain, ytrain)"
      ]
    },
    {
      "cell_type": "code",
      "execution_count": null,
      "metadata": {
        "id": "BJIt31ZrgelC"
      },
      "outputs": [],
      "source": [
        "best_params = grid.best_params_\n",
        "print(best_params)"
      ]
    },
    {
      "cell_type": "code",
      "execution_count": null,
      "metadata": {
        "id": "wYjhHl-GgelC"
      },
      "outputs": [],
      "source": [
        "lasso_best = Lasso(**best_params)\n",
        "lasso_best.fit(Xtrain, ytrain)"
      ]
    },
    {
      "cell_type": "code",
      "execution_count": null,
      "metadata": {
        "id": "Z8wba6J7gelC"
      },
      "outputs": [],
      "source": [
        "scores_lasso = cross_val_score(lasso_best, Xtrain, ytrain, cv=5, scoring='neg_mean_squared_error', n_jobs=-1)\n",
        "scores_lasso = np.sqrt(-scores_lasso)\n",
        "print(f'MEAN: {scores_lasso.mean():.2f} +/- {scores_lasso.std():.2f}')\n",
        "error_percent_lasso = 100 * (10**scores_lasso.mean() - 1)\n",
        "std_percent_lasso = 100 * (10**scores_lasso.std() - 1)\n",
        "print(f'Average error is {error_percent_lasso:.2f}%')\n",
        "print(f'Standard deviation of error is {std_percent_lasso:.2f}%')\n",
        "\n",
        "path = DATA_DIR / 'processed' / 'models_log.csv'\n",
        "\n",
        "with open(path, 'a') as f:\n",
        "    f.write(f'Lasso,{error_percent_lasso:.2f},{std_percent_lasso:.2f}\\n')"
      ]
    },
    {
      "cell_type": "markdown",
      "metadata": {
        "id": "QLGdIqIEgelD"
      },
      "source": [
        "### Experiment 3:  Random Forest Regression"
      ]
    },
    {
      "cell_type": "code",
      "execution_count": null,
      "metadata": {
        "id": "KqhuSZ7JgelD"
      },
      "outputs": [],
      "source": [
        "from sklearn.ensemble import RandomForestRegressor"
      ]
    },
    {
      "cell_type": "code",
      "execution_count": null,
      "metadata": {
        "id": "FBn1PDHPgelD"
      },
      "outputs": [],
      "source": [
        "rf = RandomForestRegressor()\n",
        "\n",
        "params = {\n",
        "    'n_estimators': [100, 600, 1200, 1800],\n",
        "    'min_samples_split': [3],\n",
        "    'max_features': ['auto', 'sqrt'],\n",
        "    'verbose': [0, 1, 2, 3],\n",
        "    'max_depth': [None],\n",
        "    'bootstrap': [False],\n",
        "    'min_weight_fraction_leaf': [0.0],\n",
        "    'min_samples_leaf': [1],\n",
        "}\n",
        "\n",
        "grid = GridSearchCV(rf, params, cv=5, verbose=1, n_jobs=-1)"
      ]
    },
    {
      "cell_type": "code",
      "execution_count": null,
      "metadata": {
        "id": "ncBy3F-igelD"
      },
      "outputs": [],
      "source": [
        "grid.fit(Xtrain, ytrain)"
      ]
    },
    {
      "cell_type": "code",
      "execution_count": null,
      "metadata": {
        "id": "vqEhl9WZgelD",
        "outputId": "625ba6f2-518f-4c9c-e6c1-45e8f75a6d78"
      },
      "outputs": [],
      "source": [
        "best_params = grid.best_params_\n",
        "print(best_params)"
      ]
    },
    {
      "cell_type": "code",
      "execution_count": null,
      "metadata": {
        "id": "s88tM9SRgelD"
      },
      "outputs": [],
      "source": [
        "rf_best = RandomForestRegressor(**best_params)\n",
        "rf_best.fit(Xtrain, ytrain)"
      ]
    },
    {
      "cell_type": "code",
      "execution_count": null,
      "metadata": {
        "id": "uwrovDvzgelE"
      },
      "outputs": [],
      "source": [
        "scores_rf = cross_val_score(rf_best, Xtrain, ytrain, cv=10, scoring='neg_mean_squared_error', n_jobs=-1)\n",
        "scores_rf = np.sqrt(-scores_rf)\n",
        "error_percent_rf = 100 * (10**scores_rf.mean() - 1)\n",
        "std_percent_rf = 100 * (10**scores_rf.std() - 1)\n",
        "print(f'Average error is {error_percent_rf:.2f}%')\n",
        "print(f'Standard deviation of error is {std_percent_rf:.2f}%')\n",
        "\n",
        "path = DATA_DIR / 'processed' / 'models_log.csv'\n",
        "\n",
        "with open(path, 'a') as f:\n",
        "    f.write(f'Random Forest,{error_percent_rf:.2f},{std_percent_rf:.2f}\\n')"
      ]
    },
    {
      "cell_type": "markdown",
      "metadata": {
        "id": "VHU1A47NgelE"
      },
      "source": [
        "### Experiment 4:  Gradient Boosting Regression"
      ]
    },
    {
      "cell_type": "code",
      "execution_count": 8,
      "metadata": {
        "id": "hGfMjeHbgelE"
      },
      "outputs": [],
      "source": [
        "from sklearn.ensemble import GradientBoostingRegressor"
      ]
    },
    {
      "cell_type": "code",
      "execution_count": null,
      "metadata": {
        "id": "7T6lq5tBgelE"
      },
      "outputs": [],
      "source": [
        "gbr = GradientBoostingRegressor()\n",
        "\n",
        "params = {\n",
        " 'alpha': 0.9, \n",
        " 'criterion': 'friedman_mse',\n",
        " 'learning_rate': [0.1, 0.5, 0.01], \n",
        " 'max_depth': [3, 4, 5], \n",
        " 'max_features': 'sqrt', \n",
        " 'min_samples_leaf': [2,3], \n",
        " 'n_estimators': [1600,200], \n",
        " 'subsample': [0.9, 0.8, 0.7, 0.6], \n",
        " 'verbose': [0,1,2], \n",
        " 'warm_start': [True, False]\n",
        "}\n",
        "\n",
        "grid = GridSearchCV(gbr, params, cv=5, verbose=1, n_jobs=-1)"
      ]
    },
    {
      "cell_type": "code",
      "execution_count": null,
      "metadata": {
        "id": "hQI9A7WXgelE",
        "outputId": "20c2ffb3-69d7-44a2-8145-5c0ca0415bed"
      },
      "outputs": [],
      "source": [
        "grid.fit(Xtrain, ytrain)"
      ]
    },
    {
      "cell_type": "code",
      "execution_count": null,
      "metadata": {
        "id": "sTXDdTvPgelE",
        "outputId": "a1d2b7ba-e649-4f85-ac58-96fda1456de5"
      },
      "outputs": [],
      "source": [
        "best_params = grid.best_params_\n",
        "with open('best_params.txt', 'w') as f:\n",
        "    f.write(str(best_params))\n",
        "print(best_params)"
      ]
    },
    {
      "cell_type": "code",
      "execution_count": null,
      "metadata": {
        "id": "EMFs95wQgelE",
        "outputId": "5bf2a913-83c3-4c18-f6f6-c5280c713979"
      },
      "outputs": [],
      "source": [
        "gbr_best = GradientBoostingRegressor(**best_params)\n",
        "gbr_best.fit(Xtrain, ytrain)"
      ]
    },
    {
      "cell_type": "code",
      "execution_count": null,
      "metadata": {
        "id": "JH_u90FUgelE",
        "outputId": "f50ed70e-93f3-450e-c221-b848fbaf92a9"
      },
      "outputs": [],
      "source": [
        "scores_gbr = cross_val_score(gbr_best, Xtrain, ytrain, cv=10, scoring='neg_mean_squared_error', n_jobs=-1)\n",
        "scores_gbr = np.sqrt(-scores_gbr)\n",
        "print(f'MEAN: {scores_gbr.mean():.2f} +/- {scores_gbr.std():.2f}')\n",
        "error_percent_gbr = 100 * (10**scores_gbr.mean() - 1)\n",
        "std_percent_gbr = 100 * (10**scores_gbr.std() - 1)\n",
        "print(f'Average error is {error_percent_gbr:.2f}%')\n",
        "print(f'Standard deviation of error is {std_percent_gbr:.2f}%')\n",
        "\n",
        "path = DATA_DIR / 'processed' / 'models_log.csv'\n",
        "\n",
        "with open(path, 'a') as f:\n",
        "    f.write(f'Gradient Boosting,{error_percent_gbr:.2f},{std_percent_gbr:.2f}\\n')"
      ]
    },
    {
      "cell_type": "markdown",
      "metadata": {
        "id": "U_T2JBDzgelF"
      },
      "source": [
        "### Experiment 5:  KNN Regression"
      ]
    },
    {
      "cell_type": "code",
      "execution_count": 9,
      "metadata": {
        "id": "ivWgnFfggelF"
      },
      "outputs": [],
      "source": [
        "from sklearn.neighbors import KNeighborsRegressor"
      ]
    },
    {
      "cell_type": "code",
      "execution_count": 12,
      "metadata": {
        "id": "8wmDaSRYgelF"
      },
      "outputs": [],
      "source": [
        "knn = KNeighborsRegressor()\n",
        "\n",
        "params = {\n",
        "    'n_neighbors': [5, 6, 7, 8],\n",
        "    'weights': ['uniform', 'distance'],\n",
        "    'algorithm': ['auto', 'ball_tree', 'kd_tree', 'brute'],\n",
        "    'p': [1, 2, 3],\n",
        "    'leaf_size': [30, 40, 50]\n",
        "}\n",
        "\n",
        "grid = GridSearchCV(knn, params, cv=5, verbose=1, n_jobs=-1)"
      ]
    },
    {
      "cell_type": "code",
      "execution_count": 14,
      "metadata": {},
      "outputs": [
        {
          "name": "stdout",
          "output_type": "stream",
          "text": [
            "Fitting 5 folds for each of 288 candidates, totalling 1440 fits\n"
          ]
        },
        {
          "data": {
            "text/html": [
              "<style>#sk-container-id-1 {color: black;}#sk-container-id-1 pre{padding: 0;}#sk-container-id-1 div.sk-toggleable {background-color: white;}#sk-container-id-1 label.sk-toggleable__label {cursor: pointer;display: block;width: 100%;margin-bottom: 0;padding: 0.3em;box-sizing: border-box;text-align: center;}#sk-container-id-1 label.sk-toggleable__label-arrow:before {content: \"▸\";float: left;margin-right: 0.25em;color: #696969;}#sk-container-id-1 label.sk-toggleable__label-arrow:hover:before {color: black;}#sk-container-id-1 div.sk-estimator:hover label.sk-toggleable__label-arrow:before {color: black;}#sk-container-id-1 div.sk-toggleable__content {max-height: 0;max-width: 0;overflow: hidden;text-align: left;background-color: #f0f8ff;}#sk-container-id-1 div.sk-toggleable__content pre {margin: 0.2em;color: black;border-radius: 0.25em;background-color: #f0f8ff;}#sk-container-id-1 input.sk-toggleable__control:checked~div.sk-toggleable__content {max-height: 200px;max-width: 100%;overflow: auto;}#sk-container-id-1 input.sk-toggleable__control:checked~label.sk-toggleable__label-arrow:before {content: \"▾\";}#sk-container-id-1 div.sk-estimator input.sk-toggleable__control:checked~label.sk-toggleable__label {background-color: #d4ebff;}#sk-container-id-1 div.sk-label input.sk-toggleable__control:checked~label.sk-toggleable__label {background-color: #d4ebff;}#sk-container-id-1 input.sk-hidden--visually {border: 0;clip: rect(1px 1px 1px 1px);clip: rect(1px, 1px, 1px, 1px);height: 1px;margin: -1px;overflow: hidden;padding: 0;position: absolute;width: 1px;}#sk-container-id-1 div.sk-estimator {font-family: monospace;background-color: #f0f8ff;border: 1px dotted black;border-radius: 0.25em;box-sizing: border-box;margin-bottom: 0.5em;}#sk-container-id-1 div.sk-estimator:hover {background-color: #d4ebff;}#sk-container-id-1 div.sk-parallel-item::after {content: \"\";width: 100%;border-bottom: 1px solid gray;flex-grow: 1;}#sk-container-id-1 div.sk-label:hover label.sk-toggleable__label {background-color: #d4ebff;}#sk-container-id-1 div.sk-serial::before {content: \"\";position: absolute;border-left: 1px solid gray;box-sizing: border-box;top: 0;bottom: 0;left: 50%;z-index: 0;}#sk-container-id-1 div.sk-serial {display: flex;flex-direction: column;align-items: center;background-color: white;padding-right: 0.2em;padding-left: 0.2em;position: relative;}#sk-container-id-1 div.sk-item {position: relative;z-index: 1;}#sk-container-id-1 div.sk-parallel {display: flex;align-items: stretch;justify-content: center;background-color: white;position: relative;}#sk-container-id-1 div.sk-item::before, #sk-container-id-1 div.sk-parallel-item::before {content: \"\";position: absolute;border-left: 1px solid gray;box-sizing: border-box;top: 0;bottom: 0;left: 50%;z-index: -1;}#sk-container-id-1 div.sk-parallel-item {display: flex;flex-direction: column;z-index: 1;position: relative;background-color: white;}#sk-container-id-1 div.sk-parallel-item:first-child::after {align-self: flex-end;width: 50%;}#sk-container-id-1 div.sk-parallel-item:last-child::after {align-self: flex-start;width: 50%;}#sk-container-id-1 div.sk-parallel-item:only-child::after {width: 0;}#sk-container-id-1 div.sk-dashed-wrapped {border: 1px dashed gray;margin: 0 0.4em 0.5em 0.4em;box-sizing: border-box;padding-bottom: 0.4em;background-color: white;}#sk-container-id-1 div.sk-label label {font-family: monospace;font-weight: bold;display: inline-block;line-height: 1.2em;}#sk-container-id-1 div.sk-label-container {text-align: center;}#sk-container-id-1 div.sk-container {/* jupyter's `normalize.less` sets `[hidden] { display: none; }` but bootstrap.min.css set `[hidden] { display: none !important; }` so we also need the `!important` here to be able to override the default hidden behavior on the sphinx rendered scikit-learn.org. See: https://github.com/scikit-learn/scikit-learn/issues/21755 */display: inline-block !important;position: relative;}#sk-container-id-1 div.sk-text-repr-fallback {display: none;}</style><div id=\"sk-container-id-1\" class=\"sk-top-container\"><div class=\"sk-text-repr-fallback\"><pre>GridSearchCV(cv=5, estimator=KNeighborsRegressor(), n_jobs=-1,\n",
              "             param_grid={&#x27;algorithm&#x27;: [&#x27;auto&#x27;, &#x27;ball_tree&#x27;, &#x27;kd_tree&#x27;, &#x27;brute&#x27;],\n",
              "                         &#x27;leaf_size&#x27;: [30, 40, 50], &#x27;n_neighbors&#x27;: [5, 6, 7, 8],\n",
              "                         &#x27;p&#x27;: [1, 2, 3], &#x27;weights&#x27;: [&#x27;uniform&#x27;, &#x27;distance&#x27;]},\n",
              "             verbose=1)</pre><b>In a Jupyter environment, please rerun this cell to show the HTML representation or trust the notebook. <br />On GitHub, the HTML representation is unable to render, please try loading this page with nbviewer.org.</b></div><div class=\"sk-container\" hidden><div class=\"sk-item sk-dashed-wrapped\"><div class=\"sk-label-container\"><div class=\"sk-label sk-toggleable\"><input class=\"sk-toggleable__control sk-hidden--visually\" id=\"sk-estimator-id-1\" type=\"checkbox\" ><label for=\"sk-estimator-id-1\" class=\"sk-toggleable__label sk-toggleable__label-arrow\">GridSearchCV</label><div class=\"sk-toggleable__content\"><pre>GridSearchCV(cv=5, estimator=KNeighborsRegressor(), n_jobs=-1,\n",
              "             param_grid={&#x27;algorithm&#x27;: [&#x27;auto&#x27;, &#x27;ball_tree&#x27;, &#x27;kd_tree&#x27;, &#x27;brute&#x27;],\n",
              "                         &#x27;leaf_size&#x27;: [30, 40, 50], &#x27;n_neighbors&#x27;: [5, 6, 7, 8],\n",
              "                         &#x27;p&#x27;: [1, 2, 3], &#x27;weights&#x27;: [&#x27;uniform&#x27;, &#x27;distance&#x27;]},\n",
              "             verbose=1)</pre></div></div></div><div class=\"sk-parallel\"><div class=\"sk-parallel-item\"><div class=\"sk-item\"><div class=\"sk-label-container\"><div class=\"sk-label sk-toggleable\"><input class=\"sk-toggleable__control sk-hidden--visually\" id=\"sk-estimator-id-2\" type=\"checkbox\" ><label for=\"sk-estimator-id-2\" class=\"sk-toggleable__label sk-toggleable__label-arrow\">estimator: KNeighborsRegressor</label><div class=\"sk-toggleable__content\"><pre>KNeighborsRegressor()</pre></div></div></div><div class=\"sk-serial\"><div class=\"sk-item\"><div class=\"sk-estimator sk-toggleable\"><input class=\"sk-toggleable__control sk-hidden--visually\" id=\"sk-estimator-id-3\" type=\"checkbox\" ><label for=\"sk-estimator-id-3\" class=\"sk-toggleable__label sk-toggleable__label-arrow\">KNeighborsRegressor</label><div class=\"sk-toggleable__content\"><pre>KNeighborsRegressor()</pre></div></div></div></div></div></div></div></div></div></div>"
            ],
            "text/plain": [
              "GridSearchCV(cv=5, estimator=KNeighborsRegressor(), n_jobs=-1,\n",
              "             param_grid={'algorithm': ['auto', 'ball_tree', 'kd_tree', 'brute'],\n",
              "                         'leaf_size': [30, 40, 50], 'n_neighbors': [5, 6, 7, 8],\n",
              "                         'p': [1, 2, 3], 'weights': ['uniform', 'distance']},\n",
              "             verbose=1)"
            ]
          },
          "execution_count": 14,
          "metadata": {},
          "output_type": "execute_result"
        }
      ],
      "source": [
        "grid.fit(Xtrain, ytrain)"
      ]
    },
    {
      "cell_type": "code",
      "execution_count": 15,
      "metadata": {
        "id": "HPB4rVMagelF"
      },
      "outputs": [
        {
          "name": "stdout",
          "output_type": "stream",
          "text": [
            "{'algorithm': 'auto', 'leaf_size': 30, 'n_neighbors': 6, 'p': 1, 'weights': 'distance'}\n"
          ]
        }
      ],
      "source": [
        "best_params = grid.best_params_\n",
        "print(best_params)"
      ]
    },
    {
      "cell_type": "code",
      "execution_count": 16,
      "metadata": {
        "id": "nDd4pnOegelJ"
      },
      "outputs": [
        {
          "data": {
            "text/html": [
              "<style>#sk-container-id-2 {color: black;}#sk-container-id-2 pre{padding: 0;}#sk-container-id-2 div.sk-toggleable {background-color: white;}#sk-container-id-2 label.sk-toggleable__label {cursor: pointer;display: block;width: 100%;margin-bottom: 0;padding: 0.3em;box-sizing: border-box;text-align: center;}#sk-container-id-2 label.sk-toggleable__label-arrow:before {content: \"▸\";float: left;margin-right: 0.25em;color: #696969;}#sk-container-id-2 label.sk-toggleable__label-arrow:hover:before {color: black;}#sk-container-id-2 div.sk-estimator:hover label.sk-toggleable__label-arrow:before {color: black;}#sk-container-id-2 div.sk-toggleable__content {max-height: 0;max-width: 0;overflow: hidden;text-align: left;background-color: #f0f8ff;}#sk-container-id-2 div.sk-toggleable__content pre {margin: 0.2em;color: black;border-radius: 0.25em;background-color: #f0f8ff;}#sk-container-id-2 input.sk-toggleable__control:checked~div.sk-toggleable__content {max-height: 200px;max-width: 100%;overflow: auto;}#sk-container-id-2 input.sk-toggleable__control:checked~label.sk-toggleable__label-arrow:before {content: \"▾\";}#sk-container-id-2 div.sk-estimator input.sk-toggleable__control:checked~label.sk-toggleable__label {background-color: #d4ebff;}#sk-container-id-2 div.sk-label input.sk-toggleable__control:checked~label.sk-toggleable__label {background-color: #d4ebff;}#sk-container-id-2 input.sk-hidden--visually {border: 0;clip: rect(1px 1px 1px 1px);clip: rect(1px, 1px, 1px, 1px);height: 1px;margin: -1px;overflow: hidden;padding: 0;position: absolute;width: 1px;}#sk-container-id-2 div.sk-estimator {font-family: monospace;background-color: #f0f8ff;border: 1px dotted black;border-radius: 0.25em;box-sizing: border-box;margin-bottom: 0.5em;}#sk-container-id-2 div.sk-estimator:hover {background-color: #d4ebff;}#sk-container-id-2 div.sk-parallel-item::after {content: \"\";width: 100%;border-bottom: 1px solid gray;flex-grow: 1;}#sk-container-id-2 div.sk-label:hover label.sk-toggleable__label {background-color: #d4ebff;}#sk-container-id-2 div.sk-serial::before {content: \"\";position: absolute;border-left: 1px solid gray;box-sizing: border-box;top: 0;bottom: 0;left: 50%;z-index: 0;}#sk-container-id-2 div.sk-serial {display: flex;flex-direction: column;align-items: center;background-color: white;padding-right: 0.2em;padding-left: 0.2em;position: relative;}#sk-container-id-2 div.sk-item {position: relative;z-index: 1;}#sk-container-id-2 div.sk-parallel {display: flex;align-items: stretch;justify-content: center;background-color: white;position: relative;}#sk-container-id-2 div.sk-item::before, #sk-container-id-2 div.sk-parallel-item::before {content: \"\";position: absolute;border-left: 1px solid gray;box-sizing: border-box;top: 0;bottom: 0;left: 50%;z-index: -1;}#sk-container-id-2 div.sk-parallel-item {display: flex;flex-direction: column;z-index: 1;position: relative;background-color: white;}#sk-container-id-2 div.sk-parallel-item:first-child::after {align-self: flex-end;width: 50%;}#sk-container-id-2 div.sk-parallel-item:last-child::after {align-self: flex-start;width: 50%;}#sk-container-id-2 div.sk-parallel-item:only-child::after {width: 0;}#sk-container-id-2 div.sk-dashed-wrapped {border: 1px dashed gray;margin: 0 0.4em 0.5em 0.4em;box-sizing: border-box;padding-bottom: 0.4em;background-color: white;}#sk-container-id-2 div.sk-label label {font-family: monospace;font-weight: bold;display: inline-block;line-height: 1.2em;}#sk-container-id-2 div.sk-label-container {text-align: center;}#sk-container-id-2 div.sk-container {/* jupyter's `normalize.less` sets `[hidden] { display: none; }` but bootstrap.min.css set `[hidden] { display: none !important; }` so we also need the `!important` here to be able to override the default hidden behavior on the sphinx rendered scikit-learn.org. See: https://github.com/scikit-learn/scikit-learn/issues/21755 */display: inline-block !important;position: relative;}#sk-container-id-2 div.sk-text-repr-fallback {display: none;}</style><div id=\"sk-container-id-2\" class=\"sk-top-container\"><div class=\"sk-text-repr-fallback\"><pre>KNeighborsRegressor(n_neighbors=6, p=1, weights=&#x27;distance&#x27;)</pre><b>In a Jupyter environment, please rerun this cell to show the HTML representation or trust the notebook. <br />On GitHub, the HTML representation is unable to render, please try loading this page with nbviewer.org.</b></div><div class=\"sk-container\" hidden><div class=\"sk-item\"><div class=\"sk-estimator sk-toggleable\"><input class=\"sk-toggleable__control sk-hidden--visually\" id=\"sk-estimator-id-4\" type=\"checkbox\" checked><label for=\"sk-estimator-id-4\" class=\"sk-toggleable__label sk-toggleable__label-arrow\">KNeighborsRegressor</label><div class=\"sk-toggleable__content\"><pre>KNeighborsRegressor(n_neighbors=6, p=1, weights=&#x27;distance&#x27;)</pre></div></div></div></div></div>"
            ],
            "text/plain": [
              "KNeighborsRegressor(n_neighbors=6, p=1, weights='distance')"
            ]
          },
          "execution_count": 16,
          "metadata": {},
          "output_type": "execute_result"
        }
      ],
      "source": [
        "knn_best = KNeighborsRegressor(**best_params)\n",
        "knn_best.fit(Xtrain, ytrain)"
      ]
    },
    {
      "cell_type": "code",
      "execution_count": 17,
      "metadata": {},
      "outputs": [
        {
          "name": "stdout",
          "output_type": "stream",
          "text": [
            "Average error is 19.22%\n",
            "Standard deviation of error is 1.09%\n"
          ]
        }
      ],
      "source": [
        "scores_knn = cross_val_score(knn_best, Xtrain, ytrain, cv=10, scoring='neg_mean_squared_error', n_jobs=-1)\n",
        "scores_knn = np.sqrt(-scores_knn)\n",
        "error_percent_knn = 100 * (10**scores_knn.mean() - 1)\n",
        "std_percent_knn = 100 * (10**scores_knn.std() - 1)\n",
        "print(f'Average error is {error_percent_knn:.2f}%')\n",
        "print(f'Standard deviation of error is {std_percent_knn:.2f}%')\n",
        "\n",
        "path = DATA_DIR / 'processed' / 'models_log.csv'\n",
        "\n",
        "with open(path, 'a') as f:\n",
        "    f.write(f'knn,{error_percent_knn:.2f},{std_percent_knn:.2f}\\n')"
      ]
    },
    {
      "cell_type": "markdown",
      "metadata": {
        "id": "bzrp08rmgelK"
      },
      "source": [
        "### Experiment 6:  Regression Stack"
      ]
    },
    {
      "cell_type": "markdown",
      "metadata": {
        "id": "Wwv4f0XOgelK"
      },
      "source": [
        "### Retraining of best model on the whole dataset"
      ]
    },
    {
      "cell_type": "code",
      "execution_count": null,
      "metadata": {
        "id": "rkNrXjEkgelK"
      },
      "outputs": [],
      "source": [
        "best_model = linear_scaled_model"
      ]
    },
    {
      "cell_type": "code",
      "execution_count": null,
      "metadata": {
        "id": "o-GozjutgelK"
      },
      "outputs": [],
      "source": [
        "best_model.fit(X, y)"
      ]
    }
  ],
  "metadata": {
    "colab": {
      "provenance": []
    },
    "kernelspec": {
      "display_name": "Python 3",
      "language": "python",
      "name": "python3"
    },
    "language_info": {
      "codemirror_mode": {
        "name": "ipython",
        "version": 3
      },
      "file_extension": ".py",
      "mimetype": "text/x-python",
      "name": "python",
      "nbconvert_exporter": "python",
      "pygments_lexer": "ipython3",
      "version": "3.9.18"
    },
    "orig_nbformat": 4
  },
  "nbformat": 4,
  "nbformat_minor": 0
}
